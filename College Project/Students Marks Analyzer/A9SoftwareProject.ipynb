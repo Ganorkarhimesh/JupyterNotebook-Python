{
 "cells": [
  {
   "cell_type": "markdown",
   "id": "13ea9cdc-a6fc-4bba-b982-076ad2efc92a",
   "metadata": {},
   "source": [
    "### SOFTWARE Laboratory LAB Project"
   ]
  },
  {
   "cell_type": "markdown",
   "id": "c4e5b202-1172-485b-8241-a1ea613aec08",
   "metadata": {},
   "source": [
    "### Team Members Name :- \n",
    "### Team Member 1 :- Dhanvir Mohate (A9-B1-11)\n",
    "### Team Member 2 :- Himesh Ganorkar (A9-B1-11)\n",
    "### Team Member 3 :- Jayant Dangore (A9-B1-11)"
   ]
  },
  {
   "cell_type": "markdown",
   "id": "0ca90a6c-d79a-4239-befb-ae259a42e8bf",
   "metadata": {},
   "source": [
    "### Project Topic :- Student Marks Analyzer "
   ]
  },
  {
   "cell_type": "markdown",
   "id": "6a119047-598e-4ff8-8217-5d00c4f2ce42",
   "metadata": {},
   "source": [
    "## Code :- "
   ]
  },
  {
   "cell_type": "code",
   "execution_count": 1,
   "id": "f0558e98-5920-494b-95ef-76f41eea642a",
   "metadata": {},
   "outputs": [],
   "source": [
    "def calculate_grade(average):\n",
    "    if average >= 90:\n",
    "        return \"A+\"\n",
    "    elif average >= 80:\n",
    "        return \"A\"\n",
    "    elif average >= 70:\n",
    "        return \"B+\"\n",
    "    elif average >= 60:\n",
    "        return \"B\"\n",
    "    elif average >= 50:\n",
    "        return \"C\"\n",
    "    else:\n",
    "        return \"Fail\""
   ]
  },
  {
   "cell_type": "code",
   "execution_count": 2,
   "id": "49803f3f-0b51-46f5-aef8-19fb02024b48",
   "metadata": {},
   "outputs": [],
   "source": [
    "def analyze_marks(name, roll_no, marks):\n",
    "    total = sum(marks)\n",
    "    average = total / len(marks)\n",
    "    highest = max(marks)\n",
    "    lowest = min(marks)\n",
    "    grade = calculate_grade(average)\n",
    "    return (name, roll_no, marks, total, average, highest, lowest, grade)"
   ]
  },
  {
   "cell_type": "code",
   "execution_count": 3,
   "id": "e6aed7a2-34aa-4791-a5ed-d212364d4b0a",
   "metadata": {},
   "outputs": [],
   "source": [
    "def save_result(result):\n",
    "    with open(\"student_results.txt\", \"a\") as f:\n",
    "        f.write(f\"Name: {result[0]}, Roll No: {result[1]}, Marks: {result[2]}, \"\n",
    "                f\"Total: {result[3]}, Average: {result[4]:.2f}, Grade: {result[7]}\\n\")"
   ]
  },
  {
   "cell_type": "code",
   "execution_count": 4,
   "id": "a3ff3349-53c8-4421-b3b2-a4191151876d",
   "metadata": {},
   "outputs": [
    {
     "name": "stdout",
     "output_type": "stream",
     "text": [
      "🎓 STUDENT MARKS ANALYZER 🎓\n",
      "----------------------------------------\n"
     ]
    },
    {
     "name": "stdin",
     "output_type": "stream",
     "text": [
      "Enter Student Name:  Sanjay\n",
      "Enter Roll Number:  26\n",
      "Enter number of subjects:  5\n",
      "Enter marks for subject 1:  50\n",
      "Enter marks for subject 2:  50\n",
      "Enter marks for subject 3:  50\n",
      "Enter marks for subject 4:  50\n",
      "Enter marks for subject 5:  50\n"
     ]
    }
   ],
   "source": [
    "print(\"🎓 STUDENT MARKS ANALYZER 🎓\")\n",
    "print(\"-\" * 40)\n",
    "\n",
    "name = input(\"Enter Student Name: \")\n",
    "roll_no = input(\"Enter Roll Number: \")\n",
    "n = int(input(\"Enter number of subjects: \"))\n",
    "\n",
    "marks = []\n",
    "for i in range(n):\n",
    "    m = float(input(f\"Enter marks for subject {i + 1}: \"))\n",
    "    marks.append(m)\n",
    "\n",
    "result = analyze_marks(name, roll_no, marks)"
   ]
  },
  {
   "cell_type": "code",
   "execution_count": 5,
   "id": "a2b5519e-00b8-4910-9395-b465be2465a6",
   "metadata": {},
   "outputs": [
    {
     "name": "stdout",
     "output_type": "stream",
     "text": [
      "\n",
      "📊 RESULT 📊\n",
      "Name       : Sanjay\n",
      "Roll No    : 26\n",
      "Marks      : [50.0, 50.0, 50.0, 50.0, 50.0]\n",
      "Total      : 250.0\n",
      "Average    : 50.00\n",
      "Highest    : 50.0\n",
      "Lowest     : 50.0\n",
      "Grade      : C\n",
      "\n",
      "✅ Result saved successfully in 'student_results.txt'\n"
     ]
    }
   ],
   "source": [
    "print(\"\\n📊 RESULT 📊\")\n",
    "print(f\"Name       : {result[0]}\")\n",
    "print(f\"Roll No    : {result[1]}\")\n",
    "print(f\"Marks      : {result[2]}\")\n",
    "print(f\"Total      : {result[3]}\")\n",
    "print(f\"Average    : {result[4]:.2f}\")\n",
    "print(f\"Highest    : {result[5]}\")\n",
    "print(f\"Lowest     : {result[6]}\")\n",
    "print(f\"Grade      : {result[7]}\")\n",
    "\n",
    "save_result(result)\n",
    "print(\"\\n✅ Result saved successfully in 'student_results.txt'\")"
   ]
  },
  {
   "cell_type": "code",
   "execution_count": null,
   "id": "17de7318-87af-4f62-8cae-8baac45e1687",
   "metadata": {},
   "outputs": [],
   "source": []
  }
 ],
 "metadata": {
  "kernelspec": {
   "display_name": "Python 3 (ipykernel)",
   "language": "python",
   "name": "python3"
  },
  "language_info": {
   "codemirror_mode": {
    "name": "ipython",
    "version": 3
   },
   "file_extension": ".py",
   "mimetype": "text/x-python",
   "name": "python",
   "nbconvert_exporter": "python",
   "pygments_lexer": "ipython3",
   "version": "3.13.5"
  }
 },
 "nbformat": 4,
 "nbformat_minor": 5
}
