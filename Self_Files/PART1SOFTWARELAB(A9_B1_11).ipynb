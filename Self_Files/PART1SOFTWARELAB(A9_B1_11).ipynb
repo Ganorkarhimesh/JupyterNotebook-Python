{
  "nbformat": 4,
  "nbformat_minor": 0,
  "metadata": {
    "colab": {
      "provenance": []
    },
    "kernelspec": {
      "name": "python3",
      "display_name": "Python 3"
    },
    "language_info": {
      "name": "python"
    }
  },
  "cells": [
    {
      "cell_type": "code",
      "execution_count": 1,
      "metadata": {
        "id": "sd0OE2R_xRiN"
      },
      "outputs": [],
      "source": [
        "processed_orders = [1152, 1154, 1155, 1156, 1157, 1160, 1161, 1162, 1166, 1169, 1170, 1172, 1176, 1050, 1178, 1051, 1052, 1054, 1058, 1060, 1061, 1062, 1065, 1066, 1067, 1068, 1069, 1076, 1077, 1080, 1081, 1083, 1091, 1085, 1088, 1089, 1131, 1092, 1094, 1095, 1099, 1102, 1103, 1104, 1106, 1107, 1108, 1109, 1111, 1117, 1119, 1121, 1150, 1128, 1129, 1136, 1137, 1139, 1140, 1141, 1144, 1148, 1124]\n",
        "returned_orders = [1153, 1158, 1159, 1163, 1164, 1165, 1167, 1168, 1171, 1173, 1174, 1175, 1177, 1053, 1055, 1056, 1057, 1059, 1063, 1064, 1070, 1071, 1072, 1073, 1074, 1075, 1078, 1079, 1082, 1084, 1086, 1087, 1090, 1093, 1096, 1097, 1098, 1100, 1101, 1105, 1110, 1112, 1113, 1114, 1115, 1116, 1118, 1120, 1122, 1123, 1125, 1126, 1127, 1130, 1132, 1133, 1134, 1135, 1138, 1142, 1143, 1145, 1146, 1147, 1149, 1151]\n"
      ]
    },
    {
      "cell_type": "markdown",
      "source": [
        "PART 1 Software LAB"
      ],
      "metadata": {
        "id": "CVkLiSanyOcJ"
      }
    },
    {
      "cell_type": "code",
      "source": [
        "all_orders = sorted(set(processed_orders + returned_orders))\n",
        "total_orders = len(all_orders)"
      ],
      "metadata": {
        "id": "vDWnqoEJxesh"
      },
      "execution_count": 2,
      "outputs": []
    },
    {
      "cell_type": "code",
      "source": [
        "fiftieth_order = all_orders[49]"
      ],
      "metadata": {
        "id": "NawH45taxjYv"
      },
      "execution_count": 3,
      "outputs": []
    },
    {
      "cell_type": "code",
      "source": [
        "order_type = \"Processed\" if fiftieth_order in processed_orders else \"Returned\""
      ],
      "metadata": {
        "id": "R63WmiOnxtev"
      },
      "execution_count": 4,
      "outputs": []
    },
    {
      "cell_type": "code",
      "source": [
        "last_processed_order = max(processed_orders)\n",
        "first_four_processed = sorted(processed_orders)[:4]"
      ],
      "metadata": {
        "id": "0lD75gqWx_B3"
      },
      "execution_count": 5,
      "outputs": []
    },
    {
      "cell_type": "code",
      "source": [
        "print(\"Total Orders:\", total_orders)\n",
        "print(\"50th Order ID:\", fiftieth_order)\n",
        "print(\"50th Order Type:\", order_type)\n",
        "print(\"Last Processed Order ID:\", last_processed_order)\n",
        "print(\"First 4 Processed Orders:\", first_four_processed)"
      ],
      "metadata": {
        "colab": {
          "base_uri": "https://localhost:8080/",
          "height": 0
        },
        "id": "zNUvI_anyEaX",
        "outputId": "82d49567-7263-47af-b545-f98f8ce209f2"
      },
      "execution_count": 6,
      "outputs": [
        {
          "output_type": "stream",
          "name": "stdout",
          "text": [
            "Total Orders: 129\n",
            "50th Order ID: 1099\n",
            "50th Order Type: Processed\n",
            "Last Processed Order ID: 1178\n",
            "First 4 Processed Orders: [1050, 1051, 1052, 1054]\n"
          ]
        }
      ]
    },
    {
      "cell_type": "code",
      "source": [],
      "metadata": {
        "id": "rHkJ3uVgyI1e"
      },
      "execution_count": null,
      "outputs": []
    }
  ]
}