{
 "cells": [
  {
   "cell_type": "markdown",
   "id": "fda43c6c-a3b2-44ce-a7bf-2aa95e7005c1",
   "metadata": {},
   "source": [
    "(A)Ramesh is Building a tool to help farmers convert temperatures the temperature today is 37c write a Python Program to: Convert the temperature \n",
    "into fahrenheit using the formula"
   ]
  },
  {
   "cell_type": "code",
   "execution_count": 1,
   "id": "3963a9da-3c7d-4c90-9baa-632ec7264445",
   "metadata": {},
   "outputs": [
    {
     "name": "stdin",
     "output_type": "stream",
     "text": [
      "Enter the Temp in Celsius :- 28\n"
     ]
    },
    {
     "name": "stdout",
     "output_type": "stream",
     "text": [
      "The Temperature in Fahrenheit is  82.4\n"
     ]
    }
   ],
   "source": [
    "A = input(\"Enter the Temp in Celsius :-\")\n",
    "F = (int(A)*9/5)+32\n",
    "print(\"The Temperature in Fahrenheit is \",F)"
   ]
  },
  {
   "cell_type": "markdown",
   "id": "93aaa0d9-f5f6-423a-853b-395e586372dd",
   "metadata": {},
   "source": [
    "(B)Write a Python code for calculating the depreciation of car value"
   ]
  },
  {
   "cell_type": "code",
   "execution_count": null,
   "id": "54e17637-576c-4f9a-8292-b1e1bbccb2dd",
   "metadata": {},
   "outputs": [],
   "source": [
    "original_price = float(input())\n",
    "age = int(input())\n",
    "current_value = original_price\n",
    "if age >= 1:\n",
    "    current_value *= 0.8\n",
    "    remaining_years = age - 1\n",
    "    if remaining_years > 0:\n",
    "        years_10 = min(4, remaining_years)\n",
    "        for _ in range(years_10):\n",
    "            current_value *= 0.9\n",
    "        remaining_years -= years_10\n",
    "    if remaining_years > 0:\n",
    "        for _ in range(remaining_years):\n",
    "            current_value *= 0.95\n",
    "else:\n",
    "    current_value = original_price\n",
    "print(round(current_value, 2))"
   ]
  },
  {
   "cell_type": "markdown",
   "id": "a1ae8432-85a5-406e-be1d-d57a66e13eef",
   "metadata": {},
   "source": [
    "Write a python program to generate employee salary slip accept from user: name of employee, basic salary, HRA%, DA%, Tax%"
   ]
  },
  {
   "cell_type": "code",
   "execution_count": null,
   "id": "a22de9b4-430b-4c10-8e88-e12e93bdcbc0",
   "metadata": {},
   "outputs": [],
   "source": [
    "name = input()\n",
    "basic_salary = float(input())\n",
    "hra_percent = float(input())\n",
    "da_percent = float(input())\n",
    "tax_percent = float(input())\n",
    "hra = basic_salary * hra_percent / 100\n",
    "da = basic_salary * da_percent / 100\n",
    "gross_salary = basic_salary + hra + da\n",
    "tax = gross_salary * tax_percent / 100\n",
    "net_salary = gross_salary - tax\n",
    "performance_bonus = net_salary * 0.02 / 100\n",
    "final_salary = net_salary + performance_bonus\n",
    "print(\"*********SALARY SLIP*******\")\n",
    "print(name)\n",
    "print(\"*****************************\")\n",
    "print(\"HRA:\", round(hra,2))\n",
    "print(\"DA:\", round(da,2))\n",
    "print(\"TAX:\", round(tax,2))\n",
    "print(\"*****************************\")\n",
    "print(\"Net Salary:\", round(net_salary,2))\n",
    "print(\"*****************************\")\n",
    "print(\"Performance bonus (+0.02%):\", round(performance_bonus,2))\n",
    "print(\"Final Salary:\", round(final_salary,2))\n",
    "print(\"*****************************\")"
   ]
  },
  {
   "cell_type": "markdown",
   "id": "a3c7567a-d16b-45e7-9e86-d3756ed72737",
   "metadata": {},
   "source": [
    "Program to find the sum of a Series:\n",
    "S= 1 + x^2/2 + x^3/3 + ... x^n/n."
   ]
  },
  {
   "cell_type": "code",
   "execution_count": null,
   "id": "68bac677-6ed5-4e12-b625-c99e9efd8d4d",
   "metadata": {},
   "outputs": [],
   "source": [
    "x = float(input())\n",
    "n = int(input())\n",
    "s = 1\n",
    "for i in range(2, n + 1):\n",
    "    s += (x ** i) / i\n",
    "print(round(s, 2))"
   ]
  },
  {
   "cell_type": "code",
   "execution_count": null,
   "id": "1b76c079-b13c-482e-9872-4dfbfbe32bde",
   "metadata": {},
   "outputs": [],
   "source": []
  }
 ],
 "metadata": {
  "kernelspec": {
   "display_name": "Python 3 (ipykernel)",
   "language": "python",
   "name": "python3"
  },
  "language_info": {
   "codemirror_mode": {
    "name": "ipython",
    "version": 3
   },
   "file_extension": ".py",
   "mimetype": "text/x-python",
   "name": "python",
   "nbconvert_exporter": "python",
   "pygments_lexer": "ipython3",
   "version": "3.13.5"
  }
 },
 "nbformat": 4,
 "nbformat_minor": 5
}
