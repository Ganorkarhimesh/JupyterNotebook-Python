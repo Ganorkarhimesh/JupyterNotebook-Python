{
 "cells": [
  {
   "cell_type": "markdown",
   "id": "429fadbb-1cd1-476f-8188-1a06cad9921f",
   "metadata": {},
   "source": [
    "Name :- Himesh Ganorkar"
   ]
  },
  {
   "cell_type": "markdown",
   "id": "62514aad-3b36-4df6-8cb7-b2228a2e3918",
   "metadata": {},
   "source": [
    "Section :- A9-B1"
   ]
  },
  {
   "cell_type": "markdown",
   "id": "c6bb3b5f-f101-4d1d-ac05-1f0644ac95e5",
   "metadata": {},
   "source": [
    "Roll No :- 11"
   ]
  },
  {
   "cell_type": "markdown",
   "id": "6ec1eabc-1597-4e8c-8a18-209cd30bb47c",
   "metadata": {},
   "source": [
    "Software LA 1"
   ]
  },
  {
   "cell_type": "markdown",
   "id": "96fb1f0b-c0f8-4edb-9679-63d7cb982510",
   "metadata": {},
   "source": [
    "Problem Statement 2 :- Write a Program to Intersection of two sets"
   ]
  },
  {
   "cell_type": "code",
   "execution_count": 4,
   "id": "924aa420-5bec-4ebf-adcc-70463548e2e7",
   "metadata": {},
   "outputs": [],
   "source": [
    "set1 = {1, 2, 3, 4, 5}\n",
    "set2 = {4, 5, 6, 7, 8}"
   ]
  },
  {
   "cell_type": "code",
   "execution_count": 7,
   "id": "29cd0d08-b912-45d3-807a-80027d6d71d7",
   "metadata": {},
   "outputs": [],
   "source": [
    "intersection = set1 & set2"
   ]
  },
  {
   "cell_type": "code",
   "execution_count": 10,
   "id": "de9ab630-04f9-4a26-a970-e5e85b33ed0b",
   "metadata": {},
   "outputs": [
    {
     "name": "stdout",
     "output_type": "stream",
     "text": [
      "{4, 5}\n"
     ]
    }
   ],
   "source": [
    "print(f\"{intersection}\")"
   ]
  },
  {
   "cell_type": "markdown",
   "id": "4c980e79-63b0-4ec0-b3fd-56bd61860d34",
   "metadata": {},
   "source": [
    "Problem Statement 1 :- write a program to find the factorial of a number using recursion"
   ]
  },
  {
   "cell_type": "code",
   "execution_count": 11,
   "id": "9bc39dea-90ae-4935-b918-a47dde877191",
   "metadata": {},
   "outputs": [],
   "source": [
    "def factorial(n):\n",
    "    if n == 0 or n == 1:\n",
    "        return 1\n",
    "    else :\n",
    "        return n*factorial(n-1)"
   ]
  },
  {
   "cell_type": "code",
   "execution_count": 14,
   "id": "ff6a0adf-f6f1-4a0d-8113-c78d65579ea1",
   "metadata": {},
   "outputs": [
    {
     "name": "stdin",
     "output_type": "stream",
     "text": [
      "Enter the number :- 2\n"
     ]
    }
   ],
   "source": [
    "num = int(input(\"Enter the number :-\"))"
   ]
  },
  {
   "cell_type": "code",
   "execution_count": 15,
   "id": "6e3ee900-7a59-468b-a5b1-f43c2f74aef3",
   "metadata": {},
   "outputs": [
    {
     "name": "stdout",
     "output_type": "stream",
     "text": [
      "2\n"
     ]
    }
   ],
   "source": [
    "print(factorial(num))"
   ]
  }
 ],
 "metadata": {
  "kernelspec": {
   "display_name": "Python [conda env:base] *",
   "language": "python",
   "name": "conda-base-py"
  },
  "language_info": {
   "codemirror_mode": {
    "name": "ipython",
    "version": 3
   },
   "file_extension": ".py",
   "mimetype": "text/x-python",
   "name": "python",
   "nbconvert_exporter": "python",
   "pygments_lexer": "ipython3",
   "version": "3.13.5"
  }
 },
 "nbformat": 4,
 "nbformat_minor": 5
}
